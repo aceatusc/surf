{
 "cells": [
  {
   "cell_type": "code",
   "execution_count": 5,
   "metadata": {},
   "outputs": [],
   "source": [
    "import pandas as pd\n",
    "\n",
    "papers = pd.read_json(\"../src/paper_data.json\")\n",
    "paper_data = papers[\"data\"]\n",
    "paper_data = paper_data.tolist()\n",
    "paper_data.append(\"/2401.02412.json\")\n",
    "paper_data.append(\"/2503.10622.json\")"
   ]
  },
  {
   "cell_type": "code",
   "execution_count": 6,
   "metadata": {},
   "outputs": [
    {
     "data": {
      "text/plain": [
       "[(17, 77, 838),\n",
       " (17, 67, 940),\n",
       " (15, 86, 507),\n",
       " (4, 46, 279),\n",
       " (25, 80, 983),\n",
       " (18, 78, 434),\n",
       " (14, 62, 268),\n",
       " (16, 104, 845),\n",
       " (8, 77, 1099),\n",
       " (17, 86, 1254),\n",
       " (15, 78, 1041),\n",
       " (44, 105, 1685),\n",
       " (12, 33, 585),\n",
       " (10, 100, 578)]"
      ]
     },
     "execution_count": 6,
     "metadata": {},
     "output_type": "execute_result"
    }
   ],
   "source": [
    "import json\n",
    "\n",
    "all_discussions = {}\n",
    "lengths = []\n",
    "\n",
    "for paper in paper_data:\n",
    "    with open(f\".{paper}\", \"r\") as f:\n",
    "        data = json.load(f)\n",
    "        ind_counter = 0\n",
    "        all_counter = 0\n",
    "        discussions = []\n",
    "        for post in data[\"posts\"].values():\n",
    "            if \"tweet_type\" not in post or \"is_branch\" not in post:\n",
    "                continue\n",
    "            if \"in_reply_to_status_id_str\" not in post and \"quoted_status_id_str\" not in post:\n",
    "                ind_counter += 1\n",
    "            all_counter += 1\n",
    "            if not post[\"is_branch\"]:\n",
    "                continue\n",
    "            if post[\"tweet_type\"] in [\"Q&A\", \"Critique\", \"Perspective\"]:\n",
    "                discussions.append(post)\n",
    "                for reply in post[\"replies\"]:\n",
    "                    if reply in data[\"posts\"]:\n",
    "                        discussions.append(data[\"posts\"][reply])\n",
    "        lengths.append((ind_counter, all_counter, len(data[\"posts\"])))\n",
    "        discussions = [\n",
    "            {\"id\": p[\"id_str\"], \"text\": \" \".join([e[\"text\"] for e in p[\"entities\"] if e[\"type\"] == \"text\"]), \"reply_to\": p.get(\"in_reply_to_status_id_str\", None), \"quoted\": p.get(\"quoted_status_id_str\", None)} for p in discussions\n",
    "        ]\n",
    "        all_discussions[paper.split(\".json\")[0].split(\"/\")[1]] = discussions\n",
    "lengths"
   ]
  },
  {
   "cell_type": "code",
   "execution_count": 7,
   "metadata": {},
   "outputs": [],
   "source": [
    "for key, value in all_discussions.items():\n",
    "    with open(f\"./{key}_discussion.json\", \"w\") as f:\n",
    "        json.dump(value, f, indent=None)"
   ]
  }
 ],
 "metadata": {
  "kernelspec": {
   "display_name": "surf",
   "language": "python",
   "name": "python3"
  },
  "language_info": {
   "codemirror_mode": {
    "name": "ipython",
    "version": 3
   },
   "file_extension": ".py",
   "mimetype": "text/x-python",
   "name": "python",
   "nbconvert_exporter": "python",
   "pygments_lexer": "ipython3",
   "version": "3.13.1"
  }
 },
 "nbformat": 4,
 "nbformat_minor": 2
}
